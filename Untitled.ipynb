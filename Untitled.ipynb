{
 "cells": [
  {
   "cell_type": "code",
   "execution_count": 1,
   "id": "96a94453-7d1e-4b15-99e3-ef91294b3187",
   "metadata": {},
   "outputs": [],
   "source": [
    "import gym"
   ]
  },
  {
   "cell_type": "code",
   "execution_count": 2,
   "id": "54421571-141c-419a-9882-202ff306a726",
   "metadata": {},
   "outputs": [],
   "source": [
    "# Make the environment, here we're gonna start with CartPole-v1\n",
    "env = gym.make('CartPole-v1', render_mode=\"human\")"
   ]
  },
  {
   "cell_type": "code",
   "execution_count": 3,
   "id": "88fcbece-2513-4dea-8019-8a3c13e341ec",
   "metadata": {},
   "outputs": [
    {
     "data": {
      "text/plain": [
       "(array([ 0.02399268, -0.02187192, -0.00848547, -0.00560831], dtype=float32),\n",
       " {})"
      ]
     },
     "execution_count": 3,
     "metadata": {},
     "output_type": "execute_result"
    }
   ],
   "source": [
    "# Reset the environment, return value is the last observation\n",
    "env.reset()"
   ]
  },
  {
   "cell_type": "code",
   "execution_count": 5,
   "id": "cfc0f743-10ef-4fb8-87d4-70aebcd2a422",
   "metadata": {},
   "outputs": [],
   "source": [
    "# Render the environment, since we choose human render mode we're\n",
    "# gonna have a window with the game that will open\n",
    "env.render()"
   ]
  },
  {
   "cell_type": "code",
   "execution_count": 3,
   "id": "e7b4b10b-bc6b-440c-bf12-654eef37806f",
   "metadata": {},
   "outputs": [],
   "source": [
    "# Here we store the observation in a variable named obs\n",
    "# 1st element = cart pos\n",
    "# 2nd element = cart velocity\n",
    "# 3th element = Pole angle\n",
    "# 4th element = Pole velocity at tip\n",
    "obs = env.reset"
   ]
  },
  {
   "cell_type": "code",
   "execution_count": 6,
   "id": "e9c10fda-54eb-489e-bb63-c425c34ca192",
   "metadata": {},
   "outputs": [
    {
     "data": {
      "text/plain": [
       "Box([-4.8000002e+00 -3.4028235e+38 -4.1887903e-01 -3.4028235e+38], [4.8000002e+00 3.4028235e+38 4.1887903e-01 3.4028235e+38], (4,), float32)"
      ]
     },
     "execution_count": 6,
     "metadata": {},
     "output_type": "execute_result"
    }
   ],
   "source": [
    "\"\"\"\n",
    "\n",
    "Attribute to get all the infos we need :\n",
    "\n",
    "Box -> Observation is continuous\n",
    "(4,) -> shape of the numpy array of the observation, here its a 4-Dimensions vector\n",
    "1st array -> lower bound of the observation array\n",
    "2st array -> upper bound of the observation array\n",
    "\n",
    "\"\"\"\n",
    "\n",
    "env.observation_space"
   ]
  },
  {
   "cell_type": "code",
   "execution_count": null,
   "id": "d5c69fb4-9e17-4d1a-973c-452ae0f196ec",
   "metadata": {},
   "outputs": [],
   "source": []
  }
 ],
 "metadata": {
  "kernelspec": {
   "display_name": "Python 3 (ipykernel)",
   "language": "python",
   "name": "python3"
  },
  "language_info": {
   "codemirror_mode": {
    "name": "ipython",
    "version": 3
   },
   "file_extension": ".py",
   "mimetype": "text/x-python",
   "name": "python",
   "nbconvert_exporter": "python",
   "pygments_lexer": "ipython3",
   "version": "3.9.16"
  }
 },
 "nbformat": 4,
 "nbformat_minor": 5
}
